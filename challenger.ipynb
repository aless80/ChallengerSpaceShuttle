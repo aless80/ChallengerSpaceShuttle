{
 "metadata": {
  "kernelspec": {
   "display_name": "Python 2",
   "language": "python",
   "name": "python2"
  },
  "language_info": {
   "codemirror_mode": {
    "name": "ipython",
    "version": 2
   },
   "file_extension": ".py",
   "mimetype": "text/x-python",
   "name": "python",
   "nbconvert_exporter": "python",
   "pygments_lexer": "ipython2",
   "version": "2.7.6"
  },
  "name": "",
  "signature": "sha256:cfa5bc5c73637814e25ce8e5dbf7484d986d9adf8955448afb3c07c32ca80eca"
 },
 "nbformat": 3,
 "nbformat_minor": 0,
 "worksheets": [
  {
   "cells": [
    {
     "cell_type": "markdown",
     "metadata": {
      "collapsed": true
     },
     "source": [
      "# The Space Shuttle Challenger disaster\n",
      "On January 28, 1986, the NASA shuttle disintegrated 73 seconds into its flight \n",
      "over the Atlantic Ocean, killing all seven crew members. Disintegration of the \n",
      "vehicle began after an O-ring seal in its right solid rocket booster (SRB) failed\n",
      "at liftoff. The O-ring was not designed to fly under unusually cold conditions (\u22121 \u00b0C/30 \u00b0F) as in this launch. "
     ]
    },
    {
     "cell_type": "code",
     "collapsed": false,
     "input": [
      "import pandas as pd\n",
      "import numpy as np\n",
      "import matplotlib.pyplot as plt\n",
      "#sudo pip install -U setuptools\n",
      "#sudo pip install -U matplotlib\n",
      "%matplotlib inline\n",
      "from IPython.core.interactiveshell import InteractiveShell\n",
      "InteractiveShell.ast_node_interactivity = 'all'\n",
      "\n",
      "data = pd.read_csv('challenger-data.csv', index_col=False, header=0)\n",
      "#Y column is failure of O-rings in space mission\n",
      "#X column is the temperature (degrees Fahrenheit) at launch.\n",
      "temp = data.X\n",
      "failure = data[data.Y == 1]\n",
      "success = data[data.Y == 0]\n",
      "failure.head(3)\n",
      "success.head(3)"
     ],
     "language": "python",
     "metadata": {},
     "outputs": [
      {
       "html": [
        "<div style=\"max-width:1500px;overflow:auto;\">\n",
        "<style>\n",
        "    .dataframe thead tr:only-child th {\n",
        "        text-align: right;\n",
        "    }\n",
        "\n",
        "    .dataframe thead th {\n",
        "        text-align: left;\n",
        "    }\n",
        "\n",
        "    .dataframe tbody tr th {\n",
        "        vertical-align: top;\n",
        "    }\n",
        "</style>\n",
        "<table border=\"1\" class=\"dataframe\">\n",
        "  <thead>\n",
        "    <tr style=\"text-align: right;\">\n",
        "      <th></th>\n",
        "      <th>Observation</th>\n",
        "      <th>Y</th>\n",
        "      <th>X</th>\n",
        "    </tr>\n",
        "  </thead>\n",
        "  <tbody>\n",
        "    <tr>\n",
        "      <th>3</th>\n",
        "      <td>4</td>\n",
        "      <td>0</td>\n",
        "      <td>53</td>\n",
        "    </tr>\n",
        "    <tr>\n",
        "      <th>4</th>\n",
        "      <td>5</td>\n",
        "      <td>0</td>\n",
        "      <td>53</td>\n",
        "    </tr>\n",
        "    <tr>\n",
        "      <th>6</th>\n",
        "      <td>7</td>\n",
        "      <td>0</td>\n",
        "      <td>57</td>\n",
        "    </tr>\n",
        "  </tbody>\n",
        "</table>\n",
        "</div>"
       ],
       "metadata": {},
       "output_type": "pyout",
       "prompt_number": 1,
       "text": [
        "   Observation  Y   X\n",
        "3            4  0  53\n",
        "4            5  0  53\n",
        "6            7  0  57"
       ]
      }
     ],
     "prompt_number": 1
    },
    {
     "cell_type": "code",
     "collapsed": false,
     "input": [
      "successareas = success.groupby(['X', 'Y']).size();\n",
      "successindex = successareas.index;\n",
      "successx = successindex.levels[0]\n",
      "successy = successindex.map(lambda t: t[1]);\n",
      "\n",
      "failareas = failure.groupby(['X', 'Y']).size();\n",
      "failindex = failareas.index;\n",
      "failx = failindex.levels[0]\n",
      "faily = failindex.map(lambda t: t[1]);\n",
      "\n",
      "#First plot ~ bubble chart\n",
      "succplot = plt.scatter(successx, successy, s=successareas * 10, alpha=0.5);\n",
      "failplot = plt.scatter(failx, faily, color='red', s=failareas * 10, alpha=0.5)\n",
      "plt.legend([failplot, succplot], ['failure','success'], loc=\"right\")\n",
      "plt.xlabel('T [Farenheit]')\n",
      "plt.ylabel('Failure')\n",
      "plt.show();\n",
      "\n",
      "#Second plot using frequences for failure\n",
      "failures_freq = failure.X.value_counts()\n",
      "no_failures_freq = success.X.value_counts()\n",
      "\n",
      "plt.scatter(failures_freq.index, failures_freq, c='red', s=40)\n",
      "plt.scatter(no_failures_freq.index, np.zeros(len(no_failures_freq)), c='blue', s=40)\n",
      "plt.xlabel('X: Temperature')\n",
      "plt.ylabel('Number of Failures')\n",
      "plt.show();\n"
     ],
     "language": "python",
     "metadata": {},
     "outputs": [
      {
       "metadata": {},
       "output_type": "display_data",
       "png": "[encoded data removed]",
       "text": [
        "<matplotlib.figure.Figure at 0x7ff79457f4d0>"
       ]
      },
      {
       "metadata": {},
       "output_type": "display_data",
       "png": "[encoded data removed]",
       "text": [
        "<matplotlib.figure.Figure at 0x7ff766821890>"
       ]
      }
     ],
     "prompt_number": 2
    },
    {
     "cell_type": "markdown",
     "metadata": {
      "collapsed": false
     },
     "source": [
      "## Logistic regression\n",
      "Use pip to install patsy:\n",
      "\n",
      "`sudo pip install -U patsy`\n",
      "\n",
      "`sudo pip install -U statsmodels`\n",
      "\n",
      "Otherwise see here: https://patsy.readthedocs.io/en/latest/overview.html#download to download the source patsy-0.4.1.zip and installed it using: \n",
      "\n",
      "`sudo python setup.py install`\n",
      "\n",
      "I installed statsmodel with: \n",
      "\n",
      "`sudo python -mpip install statsmodels`"
     ]
    },
    {
     "cell_type": "code",
     "collapsed": false,
     "input": [
      "from patsy import dmatrices\n",
      "import statsmodels.discrete.discrete_model as sm\n",
      "y, X = dmatrices('Y ~ X', data, return_type = 'dataframe')\n",
      "logit = sm.Logit(y, X)\n",
      "result = logit.fit()\n",
      "print result.summary()"
     ],
     "language": "python",
     "metadata": {},
     "outputs": [
      {
       "output_type": "stream",
       "stream": "stdout",
       "text": [
        "Optimization terminated successfully.\n",
        "         Current function value: 0.242411\n",
        "         Iterations 7\n",
        "                           Logit Regression Results                           \n",
        "==============================================================================\n",
        "Dep. Variable:                      Y   No. Observations:                  120\n",
        "Model:                          Logit   Df Residuals:                      118\n",
        "Method:                           MLE   Df Model:                            1\n",
        "Date:                Wed, 21 Jun 2017   Pseudo R-squ.:                  0.1549\n",
        "Time:                        13:45:38   Log-Likelihood:                -29.089\n",
        "converged:                       True   LL-Null:                       -34.420\n",
        "                                        LLR p-value:                  0.001094\n",
        "==============================================================================\n",
        "                 coef    std err          z      P>|z|      [0.025      0.975]\n",
        "------------------------------------------------------------------------------\n",
        "Intercept      7.4049      3.041      2.435      0.015       1.445      13.365\n",
        "X             -0.1466      0.047     -3.104      0.002      -0.239      -0.054\n",
        "==============================================================================\n"
       ]
      }
     ],
     "prompt_number": 3
    },
    {
     "cell_type": "code",
     "collapsed": false,
     "input": [
      "#import sklearn.linear_model.LogisticRegression\n",
      "from sklearn import linear_model #, decomposition, datasets\n",
      "logistic = linear_model.LogisticRegression()\n",
      "#logistic.fit(data.X.values, data.Y.values)\n",
      "logistic.fit(data.X[:, np.newaxis], data.Y)\n",
      "logistic.intercept_\n",
      "logistic.coef_"
     ],
     "language": "python",
     "metadata": {},
     "outputs": [
      {
       "metadata": {},
       "output_type": "pyout",
       "prompt_number": 25,
       "text": [
        "LogisticRegression(C=1.0, class_weight=None, dual=False, fit_intercept=True,\n",
        "          intercept_scaling=1, max_iter=100, multi_class='ovr', n_jobs=1,\n",
        "          penalty='l2', random_state=None, solver='liblinear', tol=0.0001,\n",
        "          verbose=0, warm_start=False)"
       ]
      },
      {
       "metadata": {},
       "output_type": "pyout",
       "prompt_number": 25,
       "text": [
        "array([ 0.7377388])"
       ]
      },
      {
       "metadata": {},
       "output_type": "pyout",
       "prompt_number": 25,
       "text": [
        "array([[-0.04666468]])"
       ]
      }
     ],
     "prompt_number": 25
    },
    {
     "cell_type": "markdown",
     "metadata": {},
     "source": [
      "### Interpretation\n",
      "The summary for the logistic fit on 120 points in shown in the previous cell. \n",
      "The coefficient -0.1466 for X represents the relationship between the temperature at launch and the failure of O-rings. O-ring failures are inversely proportional to the temperature (more chances of failure at low temperatures). \n",
      "\n",
      "At the 95% significance level, the confidence interval for X is from -0.05 to -0.2, which does not include zero: \n",
      "\n",
      "$$ \\mu + \\sigma \\cdot 1.96 = -0.1466 + 0.047 \\cdot 1.96 = -0.054$$\n",
      "\n",
      "$$ \\mu - \\sigma \\cdot 1.96 = -0.1466 - 0.047 \\cdot 1.96 = -0.239$$\n",
      "\n",
      "This implies that the coefficient for beta is significant.\n",
      "The P-value for this coefficient is 0.002 and confirms the same conclusions about the significance of temperature in determining the success vs failure of O-rings.\n",
      "\n",
      "The odds of failure decrease/increase by 14%/16% when the temperature increases/decreases by 1\u00b0F, respectively, as derived from these formulas: \n",
      "\n",
      "$$ e^{coef_{1}}-e^{coef_{1}+coef_{2}X} = 0.864 \\cdot e^{coef_{1}}$$\n",
      "\n",
      "$$ e^{coef_{1}}-e^{coef_{1}+coef_{2}X} = 1.158 \\cdot e^{coef_{1}}$$\n",
      "\n",
      "The probability that one O-ring fails at a temperature of 36\u00b0F is almost 90%: \n",
      "$$P \\left( Y=1 \\bracevert X=36 \\right) =\\frac{e^{coef_{1}+coef_{2}X}}{1 + e^{coef_{1}+coef_{2}X}} \\cong 0.89$$\n",
      "\n",
      "but the probability that all 5 O-rings mounted on the space shuttle fail is:\n",
      "\n",
      "$$P \\left( Y_{1},..,Y_{5}=1 \\bracevert X_{1},..,X_{5}=36 \\right) =\\left[\\frac{e^{coef_{1}+coef_{2}X}}{1 + e^{coef_{1}+coef_{2}X}}\\right]^{5} \\cong 0.57$$\n",
      "\n",
      "\n",
      "The model we used is definitely too simple for a complex system such as a space shuttle. \n",
      "Nevertheless, this simple model would still raises enough concerns to do a far more rigorous analysis and perhaps to stop the launch.\n",
      "Notice that there was not a single data point that included a launch temperature close to the 36 degree Fahrenheit observed on January 28, 1986. The model is extrapolating the relationship based on available data to a region, which is significantly outside of the available data.\n",
      "\n",
      "In summary, while our estimate of 57% likelihood of a catastrophe can be rightly criticized, there was certainly enough evidence that the likelihood of the disaster was significantly high and the launch should have been postponed.\n",
      "\n",
      "\n",
      "[//]: http://web.ift.uib.no/Teori/KURS/WRK/TeX/symALL.html \n",
      "[//]: http://csrgxtu.github.io/2015/03/20/Writing-Mathematic-Fomulars-in-Markdown/"
     ]
    }
   ],
   "metadata": {}
  }
 ]
}